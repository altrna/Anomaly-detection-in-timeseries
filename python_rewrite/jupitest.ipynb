{
 "cells": [
  {
   "cell_type": "code",
   "execution_count": 5,
   "metadata": {},
   "outputs": [
    {
     "name": "stdout",
     "output_type": "stream",
     "text": [
      "The autoreload extension is already loaded. To reload it, use:\n",
      "  %reload_ext autoreload\n"
     ]
    }
   ],
   "source": [
    "%matplotlib qt\n",
    "%load_ext autoreload\n",
    "%autoreload 2\n",
    "import numpy as np\n",
    "import matplotlib.pyplot as plt\n",
    "import fastdtw\n",
    "from utils import *\n",
    "from main import *\n",
    "from scipy.signal import correlate\n",
    "\n",
    "def find_optimal_corelation(signal1, signal2):\n",
    "    cross_cor = correlate(signal1, signal2, mode=\"full\")\n",
    "    optimal_offset = np.argmax(cross_cor) - (len(signal2) - 1)\n",
    "    print(optimal_offset)\n",
    "    return optimal_offset\n",
    "\n",
    "def plot_correlation(signal1, signal2, time1, time2, offset):\n",
    "    plt.figure()\n",
    "    time_idx = range(max(len(signal1), len(signal2)) + abs(offset) + 1)\n",
    "    if offset > 0:\n",
    "        plt.plot(time_idx[:len(signal1)], signal1)\n",
    "        plt.plot((time_idx + offset)[:len(signal2)], signal2)\n",
    "    else:\n",
    "        plt.plot((time_idx + offset)[:len(signal1)], signal1)\n",
    "        plt.plot(time_idx[:len(signal2)], signal2)\n",
    "    plt.show()\n",
    "\n",
    "\n"
   ]
  },
  {
   "cell_type": "code",
   "execution_count": 7,
   "metadata": {},
   "outputs": [],
   "source": [
    "data_pair = (2,3)\n",
    "valmatrix1, valmatrix2 = load_data_from_data_pair(data_pair)\n",
    "compare_signals(valmatrix1, valmatrix2, fast = False)"
   ]
  },
  {
   "cell_type": "code",
   "execution_count": 3,
   "metadata": {},
   "outputs": [],
   "source": [
    "\n",
    "\n",
    "i = 0\n",
    "step_size = 100\n",
    "\n",
    "for i in range(0, 2001, step_size):\n",
    "    compare_signals(valmatrix1, valmatrix2, 0, i + step_size, fast=False)\n",
    "##compare_signals(valmatrix1, valmatrix2, 0, , new_figure=False, time_shift=i*step_size)\n",
    "#for i in range(np.shape(valmatrix1)[0] // step_size):\n",
    "#   \n",
    "#    try:\n",
    "#        compare_signals(valmatrix1, valmatrix2, 0, i + step_size, new_figure=False, time_shift=i*step_size)\n",
    "#    except:\n",
    "#        compare_signals(valmatrix1, valmatrix2, 0, i + np.shape(valmatrix1)[0] % step_size, time_shift = i + np.shape(valmatrix1)[0] % step_size, new_figure=False)\n",
    "#signal1 = valmatrix[:,DESIRED_VAR]\n",
    "#signal2 = valmatrix1[:,DESIRED_VAR]\n",
    "#time1 = valmatrix[:,1]\n",
    "\n",
    "#time2 = valmatrix1[:,1]\n",
    "#d, p, ts1, ts2 = compute_dtw(time1, time2, signal1, signal2)\n",
    "#k = plot_dtw_vec(ts1, ts2, p, d)\n"
   ]
  },
  {
   "cell_type": "code",
   "execution_count": null,
   "metadata": {},
   "outputs": [],
   "source": [
    "def plot_dtw(signal1, signal2, time1, time2, distances = False):\n",
    "    plt.figure()\n",
    "    time_series1 = np.vstack((time1, signal1)).T\n",
    "    time_series2 = np.vstack((time2, signal2)).T\n",
    "    distance, paired = fastdtw(signal1, signal2)\n",
    "    print(paired)\n",
    "    paired_indices = np.array(paired)\n",
    "    if np.shape(time_series1)[0] > np.shape(time_series2)[0]:\n",
    "        leading = time_series1\n",
    "        plt.plot(time1, signal1, label='Line Plot', linewidth=0.3)\n",
    "        for i, j in paired_indices:\n",
    "            if distances:\n",
    "                plt.plot([leading[i, 0], leading[i, 0]], [time_series1[i, 1], time_series2[j, 1]], linewidth=0.3)\n",
    "            \n",
    "            if i>0 and j > 0:\n",
    "                plt.plot([leading[i - 1, 0], leading[i, 0]], [last_val, time_series2[j, 1]], linewidth=0.3, color=\"orange\")\n",
    "            last_val = time_series1[i, 1]\n",
    "    else:\n",
    "        leading = time_series2\n",
    "        plt.plot(time2, signal2, label='Line Plot', linewidth=0.3)\n",
    "        for i, j in paired_indices:\n",
    "            if distances:\n",
    "                plt.plot([leading[j, 0], leading[j, 0]], [time_series1[i, 1], time_series2[j, 1]], linewidth=0.3)\n",
    "\n",
    "            if i > 0 and j > 0:\n",
    "                plt.plot([leading[j - 1, 0], leading[j, 0]], [last_val, time_series1[i, 1]], linewidth=0.3, color=\"blue\")\n",
    "            last_val = time_series1[i, 1]\n",
    "    "
   ]
  }
 ],
 "metadata": {
  "kernelspec": {
   "display_name": "base",
   "language": "python",
   "name": "python3"
  },
  "language_info": {
   "codemirror_mode": {
    "name": "ipython",
    "version": 3
   },
   "file_extension": ".py",
   "mimetype": "text/x-python",
   "name": "python",
   "nbconvert_exporter": "python",
   "pygments_lexer": "ipython3",
   "version": "3.11.4"
  }
 },
 "nbformat": 4,
 "nbformat_minor": 2
}
